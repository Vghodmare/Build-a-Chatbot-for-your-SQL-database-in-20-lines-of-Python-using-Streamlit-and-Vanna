{
 "cells": [
  {
   "cell_type": "code",
   "execution_count": 1,
   "id": "5dcb4eec",
   "metadata": {},
   "outputs": [],
   "source": [
    "# !pip install vanna"
   ]
  },
  {
   "cell_type": "code",
   "execution_count": 11,
   "id": "96638aa9",
   "metadata": {},
   "outputs": [],
   "source": [
    "import pandas as pd \n",
    "from sqlalchemy import create_engine\n",
    "from vanna.remote import VannaDefault"
   ]
  },
  {
   "cell_type": "code",
   "execution_count": 12,
   "id": "10a1783f",
   "metadata": {},
   "outputs": [],
   "source": [
    "vn = VannaDefault(model=\"chinoook\" , api_key=\"55c52579f71345b2aa48d2b7c0acfba9\")\n",
    "# vn = VannaDefault(model=\"chinook\",api_key=vanna.get_api_key('your@gmail.com'))"
   ]
  },
  {
   "cell_type": "code",
   "execution_count": 13,
   "id": "26d80ad5",
   "metadata": {},
   "outputs": [],
   "source": [
    "vn.connect_to_sqlite(\"https://vanna.ai/Chinook.sqlite\")"
   ]
  },
  {
   "cell_type": "code",
   "execution_count": 16,
   "id": "67db15c7",
   "metadata": {},
   "outputs": [],
   "source": [
    "engine = create_engine(\"sqlite:///Chinook.sqlite\")"
   ]
  },
  {
   "cell_type": "code",
   "execution_count": 17,
   "id": "d23a71b0",
   "metadata": {},
   "outputs": [
    {
     "name": "stdout",
     "output_type": "stream",
     "text": [
      "'NoneType' object has no attribute 'questions'\n"
     ]
    },
    {
     "data": {
      "text/plain": [
       "(None, None, None)"
      ]
     },
     "execution_count": 17,
     "metadata": {},
     "output_type": "execute_result"
    }
   ],
   "source": [
    "vn.ask(\"what are the top 5 artists by sales?\")"
   ]
  },
  {
   "cell_type": "code",
   "execution_count": null,
   "id": "564f68e6",
   "metadata": {},
   "outputs": [],
   "source": []
  }
 ],
 "metadata": {
  "kernelspec": {
   "display_name": "Python [conda env:LLM_env1]",
   "language": "python",
   "name": "conda-env-LLM_env1-py"
  },
  "language_info": {
   "codemirror_mode": {
    "name": "ipython",
    "version": 3
   },
   "file_extension": ".py",
   "mimetype": "text/x-python",
   "name": "python",
   "nbconvert_exporter": "python",
   "pygments_lexer": "ipython3",
   "version": "3.11.5"
  }
 },
 "nbformat": 4,
 "nbformat_minor": 5
}
